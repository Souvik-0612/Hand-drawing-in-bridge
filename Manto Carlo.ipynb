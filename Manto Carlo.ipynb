{
 "cells": [
  {
   "cell_type": "code",
   "execution_count": 1,
   "id": "6a431926-387d-4705-bdc8-df22786cfe74",
   "metadata": {},
   "outputs": [
    {
     "name": "stdout",
     "output_type": "stream",
     "text": [
      "['C2', 'C3', 'C4', 'C5', 'C6', 'C7', 'C8', 'C9', 'CT', 'CJ', 'CQ', 'CK', 'CA', 'D2', 'D3', 'D4', 'D5', 'D6', 'D7', 'D8', 'D9', 'DT', 'DJ', 'DQ', 'DK', 'DA', 'H2', 'H3', 'H4', 'H5', 'H6', 'H7', 'H8', 'H9', 'HT', 'HJ', 'HQ', 'HK', 'HA', 'S2', 'S3', 'S4', 'S5', 'S6', 'S7', 'S8', 'S9', 'ST', 'SJ', 'SQ', 'SK', 'SA']\n"
     ]
    }
   ],
   "source": [
    "cards = []\n",
    "for suit in \"CDHS\":\n",
    "    for value in \"23456789TJQKA\":\n",
    "        cards.append(suit + value)\n",
    "        \n",
    "print(cards)"
   ]
  },
  {
   "cell_type": "code",
   "execution_count": 2,
   "id": "3270f0aa-ddb0-4de7-b393-bd6037e6829c",
   "metadata": {},
   "outputs": [],
   "source": [
    "import random"
   ]
  },
  {
   "cell_type": "code",
   "execution_count": 3,
   "id": "85c51bb8-f658-48dd-ba82-7327af0011f1",
   "metadata": {},
   "outputs": [
    {
     "name": "stdout",
     "output_type": "stream",
     "text": [
      "Odd of flush 0.04%\n"
     ]
    }
   ],
   "source": [
    "N = 100000\n",
    "flush = 0\n",
    "counter = 0\n",
    "for i in range(N):\n",
    "    hand = []\n",
    "    while len(hand) < 13:\n",
    "        card = random.choice(cards)\n",
    "        #FOR DUPLICATE CARDS\n",
    "        while card in hand:\n",
    "            card = random.choice(cards)\n",
    "        #....\n",
    "        hand.append(card)\n",
    "    if hand[0][0] == hand[1][0] == hand[2][0]== hand[3][0]== hand[4][0]== hand[5][0]:\n",
    "        counter += 1\n",
    "    #print(hand)  \n",
    "#print(counter)\n",
    "    \n",
    "print(f\"Odd of flush {(counter/N)*100 :.2f}%\")"
   ]
  },
  {
   "cell_type": "code",
   "execution_count": 4,
   "id": "a95a16e3-8de7-4688-bd97-a3242a5cab5d",
   "metadata": {},
   "outputs": [
    {
     "data": {
      "image/png": "[encoded data removed]",
      "text/plain": [
       "<Figure size 432x432 with 1 Axes>"
      ]
     },
     "metadata": {
      "needs_background": "light"
     },
     "output_type": "display_data"
    }
   ],
   "source": [
    "import matplotlib.pyplot as plt\n",
    "import numpy as np\n",
    "\n",
    "#Dart baord\n",
    "plt.figure(figsize=(6,6))\n",
    "circle = plt.Circle((0,0), radius = 1, edgecolor = 'black', facecolor = 'none')\n",
    "square = plt.Rectangle((-1, -1), width = 2, height = 2, edgecolor = 'black', facecolor = 'none')\n",
    "ax = plt.gca()\n",
    "ax.add_patch(circle)\n",
    "ax.add_patch(square)\n",
    "\n",
    "#genarete N= many darts inside square\n",
    "N = 10000000\n",
    "x = 2*np.random.rand(N) - 1\n",
    "y = 2*np.random.rand(N) - 1\n",
    "\n",
    "#how many darts are inside the circle\n",
    "r = np.sqrt(x**2 + y**2)\n",
    "inside = (r < 1)\n",
    "outside = (r >= 1)\n",
    "plt.plot(x[inside], y[inside], 'r.')\n",
    "plt.plot(x[outside], y[outside], 'g.')\n",
    "\n",
    "#fraction inside circle is pi/4\n",
    "pi = 4*len(r[inside])/N\n",
    "\n",
    "#Draw\n",
    "plt.title(f\"pi = {pi}\")\n",
    "plt.axis(\"scaled\")\n",
    "plt.axis('off')\n",
    "plt.show()"
   ]
  }
 ],
 "metadata": {
  "kernelspec": {
   "display_name": "Python 3 (ipykernel)",
   "language": "python",
   "name": "python3"
  },
  "language_info": {
   "codemirror_mode": {
    "name": "ipython",
    "version": 3
   },
   "file_extension": ".py",
   "mimetype": "text/x-python",
   "name": "python",
   "nbconvert_exporter": "python",
   "pygments_lexer": "ipython3",
   "version": "3.10.4"
  }
 },
 "nbformat": 4,
 "nbformat_minor": 5
}
